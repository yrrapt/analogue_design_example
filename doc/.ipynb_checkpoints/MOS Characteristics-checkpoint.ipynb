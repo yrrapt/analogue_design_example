{
 "cells": [
  {
   "cell_type": "code",
   "execution_count": 2,
   "id": "56286c07",
   "metadata": {},
   "outputs": [
    {
     "name": "stdout",
     "output_type": "stream",
     "text": [
      "The autoreload extension is already loaded. To reload it, use:\n",
      "  %reload_ext autoreload\n"
     ]
    }
   ],
   "source": [
    "%load_ext autoreload\n",
    "%autoreload 2\n",
    "\n",
    "from yaaade.characterise.mos import QueryMos\n",
    "import matplotlib.pyplot as plt\n",
    "\n",
    "plt.rcParams['figure.figsize'] = [12, 8]"
   ]
  },
  {
   "cell_type": "code",
   "execution_count": 3,
   "id": "dbc64eb9",
   "metadata": {},
   "outputs": [],
   "source": [
    "query_obj = {'nfet'     : QueryMos('data/sky130_fd_pr__nfet_01v8.hdf5'),\n",
    "             'nfet_lvt' : QueryMos('data/sky130_fd_pr__nfet_01v8_lvt.hdf5'),\n",
    "             'pfet'     : QueryMos('data/sky130_fd_pr__pfet_01v8.hdf5'),\n",
    "             'pfet_lvt' : QueryMos('data/sky130_fd_pr__nfet_01v8_lvt.hdf5')}"
   ]
  },
  {
   "cell_type": "markdown",
   "id": "a70e904c",
   "metadata": {},
   "source": [
    "## Plot gm/Id"
   ]
  },
  {
   "cell_type": "markdown",
   "id": "66f6dda2",
   "metadata": {},
   "source": [
    "#### NMOS LVT"
   ]
  },
  {
   "cell_type": "code",
   "execution_count": null,
   "id": "153203fa",
   "metadata": {},
   "outputs": [],
   "source": [
    "conditions = {  'l'     :   query_obj['nfet_lvt'].get_parameter_values('l'),\n",
    "                'vbs'   :   0.00,\n",
    "                'vds'   :   0.90}\n",
    "query_obj['nfet_lvt'].plot(x='gm/id', y='integrated_noise', conditions=conditions, extra_plot_cmd='plt.ylim([1e-10,1e-7])')"
   ]
  }
 ],
 "metadata": {
  "kernelspec": {
   "display_name": "Python 3",
   "language": "python",
   "name": "python3"
  },
  "language_info": {
   "codemirror_mode": {
    "name": "ipython",
    "version": 3
   },
   "file_extension": ".py",
   "mimetype": "text/x-python",
   "name": "python",
   "nbconvert_exporter": "python",
   "pygments_lexer": "ipython3",
   "version": "3.7.3"
  }
 },
 "nbformat": 4,
 "nbformat_minor": 5
}
